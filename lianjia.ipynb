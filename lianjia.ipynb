{
 "cells": [
  {
   "cell_type": "code",
   "execution_count": 14,
   "metadata": {
    "collapsed": true
   },
   "outputs": [],
   "source": [
    "import requests\n",
    "from lxml import etree\n",
    "import pandas as pd\n",
    "from multiprocessing.dummy import Pool\n",
    "from bs4 import BeautifulSoup\n",
    "import itertools\n",
    "import gc\n",
    "import time"
   ]
  },
  {
   "cell_type": "code",
   "execution_count": 15,
   "metadata": {
    "collapsed": true
   },
   "outputs": [],
   "source": [
    "# 伪装头\n",
    "headers = {\n",
    "    'Accept':'text/html,application/xhtml+xml,application/xml;q=0.9,image/webp,image/apng,*/*;q=0.8',\n",
    "    'Accept-Encoding':'gzip, deflate, br',\n",
    "    'Accept-Language':'zh-CN,zh;q=0.9',\n",
    "    'Connection':'keep-alive',\n",
    "    'User-Agent':'Mozilla/5.0 (Windows NT 6.1; Win64; x64) AppleWebKit/537.36 (KHTML, like Gecko) Chrome/64.0.3282.186 Safari/537.36'\n",
    "}"
   ]
  },
  {
   "cell_type": "code",
   "execution_count": 3,
   "metadata": {
    "collapsed": true
   },
   "outputs": [],
   "source": [
    "init_url = 'https://bj.lianjia.com/ershoufang/'"
   ]
  },
  {
   "cell_type": "markdown",
   "metadata": {},
   "source": [
    "# 获取所有在售二手房的房屋链接\n",
    "\n",
    "每页显示30套房子，每个城区最多显示100页 也就是3000页房子，所以要分街区获取"
   ]
  },
  {
   "cell_type": "code",
   "execution_count": 4,
   "metadata": {
    "collapsed": true
   },
   "outputs": [],
   "source": [
    "## 获取所有城区的url\n",
    "html = requests.get(init_url , headers = headers).text\n",
    "selector = etree.HTML(html)\n",
    "districtName = selector.xpath('//*[@id=\"position\"]/dl[2]/dd/div[1]/div/a/text()')\n",
    "districtUrl = ['https://bj.lianjia.com'+i for i in selector.xpath('//*[@id=\"position\"]/dl[2]/dd/div[1]/div/a/@href')]\n",
    "## 获取地区的url\n",
    "blockUrl = [] #用来存所有的URL\n",
    "blockName = [] #用来村所有地区的名字\n",
    "for district in districtUrl[0:-2]:# 因为北京房屋搜索的时候是包含燕郊和大厂这俩河北地区的。\n",
    "    html = requests.get(district,headers = headers)\n",
    "    selector = etree.HTML(html.text)\n",
    "    blockName.extend(selector.xpath('//*[@id=\"position\"]/dl[2]/dd/div[1]/div[2]/a/text()'))\n",
    "    blockUrl.extend(['https://bj.lianjia.com' + i + 'ng1nb1' for i in selector.xpath('//*[@id=\"position\"]/dl[2]/dd/div[1]/div[2]/a/@href')])\n",
    "blockUrl = list(set(blockUrl))"
   ]
  },
  {
   "cell_type": "code",
   "execution_count": 5,
   "metadata": {
    "scrolled": true
   },
   "outputs": [
    {
     "data": {
      "text/plain": [
       "239"
      ]
     },
     "execution_count": 5,
     "metadata": {},
     "output_type": "execute_result"
    }
   ],
   "source": [
    "len(blockUrl)"
   ]
  },
  {
   "cell_type": "code",
   "execution_count": 6,
   "metadata": {},
   "outputs": [
    {
     "data": {
      "text/plain": [
       "'https://bj.lianjia.com/ershoufang/tongzhoubeiyuan/ng1nb1'"
      ]
     },
     "execution_count": 6,
     "metadata": {},
     "output_type": "execute_result"
    }
   ],
   "source": [
    "blockUrl[0]"
   ]
  },
  {
   "cell_type": "code",
   "execution_count": 7,
   "metadata": {
    "collapsed": true
   },
   "outputs": [],
   "source": [
    "# 先那一个地区的url页面，获取一共有多少房子，一共有多少页\n",
    "def gethouseUrl(blockUrl):\n",
    "    houseUrl = []\n",
    "    res = requests.get(blockUrl , headers = headers)\n",
    "    soup = BeautifulSoup(res.text , 'html.parser')\n",
    "    maxhouse = int(soup.select('div[class=\"resultDes clear\"] h2 span')[0].text)\n",
    "    totalPage = json.loads(soup.select('div[class=\"page-box house-lst-page-box\"]')[0]['page-data'])['totalPage']\n",
    "    print('共有%d套房子，共%d页'%(maxhouse,totalPage))\n",
    "    #获取每个地区的所有页面中房子的URL\n",
    "    for page in range(1,totalPage+1):\n",
    "        url = blockUrl + 'ng1nb1pg' + str(page)\n",
    "        res = requests.get(url, headers = headers )\n",
    "        soup = BeautifulSoup(res.text,'html.parser')\n",
    "        houseUrl.extend([i['href'] for i in soup.select('li[class=\"clear LOGCLICKDATA\"] div[class=\"title\"] a')])\n",
    "        print('\\r %d/%d'%(page,totalPage) , end = '')\n",
    "    return houseUrl "
   ]
  },
  {
   "cell_type": "markdown",
   "metadata": {},
   "source": [
    " \n",
    "    #房屋信息（几室几厅）\n",
    "    roommainInfo = selector.xpath('/html/body/div[5]/div[2]/div[3]/div[1]/div[1]/text()')\n",
    "    #楼层位置（高层/共x层）\n",
    "    roomsubInfo = selector.xpath('/html/body/div[5]/div[2]/div[3]/div[1]/div[2]/text()')\n",
    "    #朝向\n",
    "    typemainInfo = selector.xpath('/html/body/div[5]/div[2]/div[3]/div[2]/div[1]/text()')\n",
    "    #户型( 平层/跃层)装修情况(精装、简装、毛坯)\n",
    "    typesubInfo = selector.xpath('/html/body/div[5]/div[2]/div[3]/div[2]/div[2]/text()')\n",
    "    #建筑面积\n",
    "    areamainInfo = selector.xpath('/html/body/div[5]/div[2]/div[3]/div[3]/div[1]/text()')\n",
    "    #年份/楼型 (板楼/塔楼)\n",
    "    areasubInfo = selector.xpath('/html/body/div[5]/div[2]/div[3]/div[3]/div[2]/text()')\n"
   ]
  },
  {
   "cell_type": "code",
   "execution_count": 8,
   "metadata": {
    "collapsed": true
   },
   "outputs": [],
   "source": [
    "def gethouseInfo(houseUrl):\n",
    "    html = requests.get(houseUrl ,headers = headers).text\n",
    "    selector = etree.HTML(html)   \n",
    "    \n",
    "    totalPrice = selector.xpath('/html/body/div[5]/div[2]/div[2]/span[1]/text()')    #总价\n",
    "    unitPrice = selector.xpath('/html/body/div[5]/div[2]/div[2]/div[1]/div[1]/span/text()')    #单价\n",
    "    communityName = selector.xpath('/html/body/div[5]/div[2]/div[4]/div[1]/a[1]/text()')    #小区名称\n",
    "    districtName = selector.xpath('/html/body/div[5]/div[2]/div[4]/div[2]/span[2]/a[1]/text()')    #城区\n",
    "    blockName = selector.xpath('/html/body/div[5]/div[2]/div[4]/div[2]/span[2]/a[2]/text()')    #地区\n",
    "    houseRecordID = selector.xpath('/html/body/div[5]/div[2]/div[4]/div[4]/span[2]/text()')    #房屋ID\n",
    "    roommainInfo = selector.xpath('//*[@id=\"introduction\"]/div/div/div[1]/div[2]/ul/li[1]/text()')#户型\n",
    "    floor = selector.xpath('//*[@id=\"introduction\"]/div/div/div[1]/div[2]/ul/li[2]/text()') #楼层\n",
    "    builtArea = selector.xpath('//*[@id=\"introduction\"]/div/div/div[1]/div[2]/ul/li[3]/text()') #建筑面积\n",
    "    roomType = selector.xpath('//*[@id=\"introduction\"]/div/div/div[1]/div[2]/ul/li[4]/text()') #房屋类型（平层、跃层）\n",
    "    useArea = selector.xpath('//*[@id=\"introduction\"]/div/div/div[1]/div[2]/ul/li[5]/text()') #使用面积\n",
    "    builtType = selector.xpath('//*[@id=\"introduction\"]/div/div/div[1]/div[2]/ul/li[6]/text()') #建筑类型（塔楼、板楼）\n",
    "    orientation = selector.xpath('//*[@id=\"introduction\"]/div/div/div[1]/div[2]/ul/li[7]/text()') #朝向\n",
    "    built = selector.xpath('//*[@id=\"introduction\"]/div/div/div[1]/div[2]/ul/li[8]/text()') #建筑结构\n",
    "    decoration = selector.xpath('//*[@id=\"introduction\"]/div/div/div[1]/div[2]/ul/li[9]/text()')# 装修情况\n",
    "    liftType = selector.xpath('//*[@id=\"introduction\"]/div/div/div[1]/div[2]/ul/li[10]/text()') #梯户比例\n",
    "    heatingMode =selector.xpath('//*[@id=\"introduction\"]/div/div/div[1]/div[2]/ul/li[11]/text()') #供暖方式\n",
    "    lift = selector.xpath('//*[@id=\"introduction\"]/div/div/div[1]/div[2]/ul/li[12]/text()') #配备电梯\n",
    "    propertyRights = selector.xpath('//*[@id=\"introduction\"]/div/div/div[1]/div[2]/ul/li[13]/text()') #产权年限\n",
    "    houseType = selector.xpath('//*[@id=\"introduction\"]/div/div/div[2]/div[2]/ul/li[4]/span[2]/text()') #房屋用途\n",
    "    \n",
    "    #项目顺序\n",
    "    columns = ['houseRecordID',\n",
    "                'communityName',\n",
    "                'blockName',\n",
    "                'districtName',\n",
    "                'totalPrice',\n",
    "                'builtArea',\n",
    "                'useArea',\n",
    "                'builtType',\n",
    "                'unitPrice',\n",
    "                'roommainInfo',\n",
    "                'floor',\n",
    "                'roomType',\n",
    "                'orientation',\n",
    "                'built',\n",
    "                'decoration',\n",
    "                'liftType',\n",
    "                'heatingMode',\n",
    "                'lift',\n",
    "                'propertyRights',\n",
    "                'houseType',\n",
    "                'houseUrl'] \n",
    "\n",
    "    houseInfo = pd.DataFrame(dict(totalPrice=totalPrice,\n",
    "                                    unitPrice=unitPrice,\n",
    "                                    communityName=communityName,\n",
    "                                    districtName=districtName,\n",
    "                                    blockName=blockName,\n",
    "                                    houseRecordID=houseRecordID,\n",
    "                                    roommainInfo=roommainInfo,\n",
    "                                    floor=floor,\n",
    "                                    builtArea=builtArea,\n",
    "                                    roomType=roomType,\n",
    "                                    useArea=useArea,\n",
    "                                    builtType=builtType,\n",
    "                                    orientation=orientation,\n",
    "                                    built=built,\n",
    "                                    decoration=decoration,\n",
    "                                    liftType=liftType,\n",
    "                                    heatingMode=heatingMode,\n",
    "                                    lift=lift,\n",
    "                                    propertyRights=propertyRights,\n",
    "                                    houseType=houseType,      \n",
    "                                    houseUrl = [houseUrl]\n",
    "                                 ))\n",
    "   # 写入csv\n",
    "   # houseInfo.to_csv('houseInfo.csv' , index = False , header = False,mode=\"a+\")\n",
    "    print('#',end='')\n",
    "    return houseInfo"
   ]
  },
  {
   "cell_type": "code",
   "execution_count": 9,
   "metadata": {
    "collapsed": true
   },
   "outputs": [],
   "source": [
    "def gethouseInfo_perblock(blockUrl):   \n",
    "    res = requests.get(blockUrl , headers = headers)\n",
    "    soup = BeautifulSoup(res.text , 'html.parser')\n",
    "    maxhouse = int(soup.select('div[class=\"resultDes clear\"] h2 span')[0].text)\n",
    "    if maxhouse!= 0:\n",
    "        totalPage = json.loads(soup.select('div[class=\"page-box house-lst-page-box\"]')[0]['page-data'])['totalPage']\n",
    "        print('共有%d套房子，共%d页'%(maxhouse,totalPage))\n",
    "        #获取每个地区的所有页面中房子的URL\n",
    "        houseUrl = []\n",
    "        for page in range(1,totalPage+1):\n",
    "            url = blockUrl + 'pg' + str(page)###不看车位不看地下室\n",
    "            res = requests.get(url, headers = headers )\n",
    "            soup = BeautifulSoup(res.text,'html.parser')\n",
    "            houseUrl.extend([i['href'] for i in soup.select('li[class=\"clear LOGCLICKDATA\"] div[class=\"title\"] a')])\n",
    "            print('\\r正在爬取%d/%d'%(page,totalPage) , end = '')\n",
    "        # 这里并多线程调用gethouseinfo函数  \n",
    "        # time1 = time.tme()\n",
    "        pool = Pool(8)\n",
    "        houseInfo = pool.map(gethouseInfo,houseUrl)\n",
    "        pool.close()\n",
    "        pool.join()\n",
    "        houseInfo = pd.concat(houseInfo,ignore_index=True)\n",
    "        # time2 = time.time()\n",
    "        # print('\\n'+str(time2-time1))\n",
    "        houseInfo.to_csv('houseInfo_perblock.csv',index=False,header=False,mode='a+')\n",
    "        gc.collect() \n",
    "        return houseInfo\n",
    "    else:\n",
    "        print('没房，跳过了')\n",
    "        gc.collect() "
   ]
  },
  {
   "cell_type": "code",
   "execution_count": null,
   "metadata": {
    "scrolled": true
   },
   "outputs": [
    {
     "name": "stdout",
     "output_type": "stream",
     "text": [
      "共有174套房子，共6页\n",
      "正在爬取6/6##################################"
     ]
    }
   ],
   "source": [
    "#总地区数\n",
    "totalBlock = len(blockUrl)\n",
    "page = 1\n",
    "#单线程爬取每个地区，看看报错了会怎么样\n",
    "time3 = time.time()\n",
    "for eachblock in blockUrl[0:1]:\n",
    "    gethouseInfo_perblock(eachblock)\n",
    "    print('\\n %d/%d'%(page,totalBlock))\n",
    "    page += 1\n",
    "time4 = time.time()\n",
    "print('\\n 搞定了，总计用时%d秒'%(time4-time3))"
   ]
  },
  {
   "cell_type": "code",
   "execution_count": 10,
   "metadata": {},
   "outputs": [
    {
     "name": "stdout",
     "output_type": "stream",
     "text": [
      "共有1266套房子，共43页\n",
      "正在爬取43/43####################################################################################################################################################################################################################################################################################################################################################################################################################################################################################################################################################################################################################################################################################################################################################################################################################################################################################################################################################################################################################################################################################################################################################################################################################################################################################################"
     ]
    },
    {
     "ename": "ValueError",
     "evalue": "arrays must all be same length",
     "output_type": "error",
     "traceback": [
      "\u001b[1;31m---------------------------------------------------------------------------\u001b[0m",
      "\u001b[1;31mValueError\u001b[0m                                Traceback (most recent call last)",
      "\u001b[1;32m<ipython-input-10-628a2cdc4680>\u001b[0m in \u001b[0;36m<module>\u001b[1;34m()\u001b[0m\n\u001b[1;32m----> 1\u001b[1;33m \u001b[0mgethouseInfo_perblock\u001b[0m\u001b[1;33m(\u001b[0m\u001b[1;34m'https://bj.lianjia.com/ershoufang/wangjing/ng1nb1'\u001b[0m\u001b[1;33m)\u001b[0m\u001b[1;33m\u001b[0m\u001b[0m\n\u001b[0m",
      "\u001b[1;32m<ipython-input-9-ae74b6684c18>\u001b[0m in \u001b[0;36mgethouseInfo_perblock\u001b[1;34m(blockUrl)\u001b[0m\n\u001b[0;32m     17\u001b[0m         \u001b[1;31m# time1 = time.tme()\u001b[0m\u001b[1;33m\u001b[0m\u001b[1;33m\u001b[0m\u001b[0m\n\u001b[0;32m     18\u001b[0m         \u001b[0mpool\u001b[0m \u001b[1;33m=\u001b[0m \u001b[0mPool\u001b[0m\u001b[1;33m(\u001b[0m\u001b[1;36m8\u001b[0m\u001b[1;33m)\u001b[0m\u001b[1;33m\u001b[0m\u001b[0m\n\u001b[1;32m---> 19\u001b[1;33m         \u001b[0mhouseInfo\u001b[0m \u001b[1;33m=\u001b[0m \u001b[0mpool\u001b[0m\u001b[1;33m.\u001b[0m\u001b[0mmap\u001b[0m\u001b[1;33m(\u001b[0m\u001b[0mgethouseInfo\u001b[0m\u001b[1;33m,\u001b[0m\u001b[0mhouseUrl\u001b[0m\u001b[1;33m)\u001b[0m\u001b[1;33m\u001b[0m\u001b[0m\n\u001b[0m\u001b[0;32m     20\u001b[0m         \u001b[0mpool\u001b[0m\u001b[1;33m.\u001b[0m\u001b[0mclose\u001b[0m\u001b[1;33m(\u001b[0m\u001b[1;33m)\u001b[0m\u001b[1;33m\u001b[0m\u001b[0m\n\u001b[0;32m     21\u001b[0m         \u001b[0mpool\u001b[0m\u001b[1;33m.\u001b[0m\u001b[0mjoin\u001b[0m\u001b[1;33m(\u001b[0m\u001b[1;33m)\u001b[0m\u001b[1;33m\u001b[0m\u001b[0m\n",
      "\u001b[1;32mC:\\ProgramData\\Anaconda3\\lib\\multiprocessing\\pool.py\u001b[0m in \u001b[0;36mmap\u001b[1;34m(self, func, iterable, chunksize)\u001b[0m\n\u001b[0;32m    258\u001b[0m         \u001b[1;32min\u001b[0m \u001b[0ma\u001b[0m \u001b[0mlist\u001b[0m \u001b[0mthat\u001b[0m \u001b[1;32mis\u001b[0m \u001b[0mreturned\u001b[0m\u001b[1;33m.\u001b[0m\u001b[1;33m\u001b[0m\u001b[0m\n\u001b[0;32m    259\u001b[0m         '''\n\u001b[1;32m--> 260\u001b[1;33m         \u001b[1;32mreturn\u001b[0m \u001b[0mself\u001b[0m\u001b[1;33m.\u001b[0m\u001b[0m_map_async\u001b[0m\u001b[1;33m(\u001b[0m\u001b[0mfunc\u001b[0m\u001b[1;33m,\u001b[0m \u001b[0miterable\u001b[0m\u001b[1;33m,\u001b[0m \u001b[0mmapstar\u001b[0m\u001b[1;33m,\u001b[0m \u001b[0mchunksize\u001b[0m\u001b[1;33m)\u001b[0m\u001b[1;33m.\u001b[0m\u001b[0mget\u001b[0m\u001b[1;33m(\u001b[0m\u001b[1;33m)\u001b[0m\u001b[1;33m\u001b[0m\u001b[0m\n\u001b[0m\u001b[0;32m    261\u001b[0m \u001b[1;33m\u001b[0m\u001b[0m\n\u001b[0;32m    262\u001b[0m     \u001b[1;32mdef\u001b[0m \u001b[0mstarmap\u001b[0m\u001b[1;33m(\u001b[0m\u001b[0mself\u001b[0m\u001b[1;33m,\u001b[0m \u001b[0mfunc\u001b[0m\u001b[1;33m,\u001b[0m \u001b[0miterable\u001b[0m\u001b[1;33m,\u001b[0m \u001b[0mchunksize\u001b[0m\u001b[1;33m=\u001b[0m\u001b[1;32mNone\u001b[0m\u001b[1;33m)\u001b[0m\u001b[1;33m:\u001b[0m\u001b[1;33m\u001b[0m\u001b[0m\n",
      "\u001b[1;32mC:\\ProgramData\\Anaconda3\\lib\\multiprocessing\\pool.py\u001b[0m in \u001b[0;36mget\u001b[1;34m(self, timeout)\u001b[0m\n\u001b[0;32m    606\u001b[0m             \u001b[1;32mreturn\u001b[0m \u001b[0mself\u001b[0m\u001b[1;33m.\u001b[0m\u001b[0m_value\u001b[0m\u001b[1;33m\u001b[0m\u001b[0m\n\u001b[0;32m    607\u001b[0m         \u001b[1;32melse\u001b[0m\u001b[1;33m:\u001b[0m\u001b[1;33m\u001b[0m\u001b[0m\n\u001b[1;32m--> 608\u001b[1;33m             \u001b[1;32mraise\u001b[0m \u001b[0mself\u001b[0m\u001b[1;33m.\u001b[0m\u001b[0m_value\u001b[0m\u001b[1;33m\u001b[0m\u001b[0m\n\u001b[0m\u001b[0;32m    609\u001b[0m \u001b[1;33m\u001b[0m\u001b[0m\n\u001b[0;32m    610\u001b[0m     \u001b[1;32mdef\u001b[0m \u001b[0m_set\u001b[0m\u001b[1;33m(\u001b[0m\u001b[0mself\u001b[0m\u001b[1;33m,\u001b[0m \u001b[0mi\u001b[0m\u001b[1;33m,\u001b[0m \u001b[0mobj\u001b[0m\u001b[1;33m)\u001b[0m\u001b[1;33m:\u001b[0m\u001b[1;33m\u001b[0m\u001b[0m\n",
      "\u001b[1;32mC:\\ProgramData\\Anaconda3\\lib\\multiprocessing\\pool.py\u001b[0m in \u001b[0;36mworker\u001b[1;34m(inqueue, outqueue, initializer, initargs, maxtasks, wrap_exception)\u001b[0m\n\u001b[0;32m    117\u001b[0m         \u001b[0mjob\u001b[0m\u001b[1;33m,\u001b[0m \u001b[0mi\u001b[0m\u001b[1;33m,\u001b[0m \u001b[0mfunc\u001b[0m\u001b[1;33m,\u001b[0m \u001b[0margs\u001b[0m\u001b[1;33m,\u001b[0m \u001b[0mkwds\u001b[0m \u001b[1;33m=\u001b[0m \u001b[0mtask\u001b[0m\u001b[1;33m\u001b[0m\u001b[0m\n\u001b[0;32m    118\u001b[0m         \u001b[1;32mtry\u001b[0m\u001b[1;33m:\u001b[0m\u001b[1;33m\u001b[0m\u001b[0m\n\u001b[1;32m--> 119\u001b[1;33m             \u001b[0mresult\u001b[0m \u001b[1;33m=\u001b[0m \u001b[1;33m(\u001b[0m\u001b[1;32mTrue\u001b[0m\u001b[1;33m,\u001b[0m \u001b[0mfunc\u001b[0m\u001b[1;33m(\u001b[0m\u001b[1;33m*\u001b[0m\u001b[0margs\u001b[0m\u001b[1;33m,\u001b[0m \u001b[1;33m**\u001b[0m\u001b[0mkwds\u001b[0m\u001b[1;33m)\u001b[0m\u001b[1;33m)\u001b[0m\u001b[1;33m\u001b[0m\u001b[0m\n\u001b[0m\u001b[0;32m    120\u001b[0m         \u001b[1;32mexcept\u001b[0m \u001b[0mException\u001b[0m \u001b[1;32mas\u001b[0m \u001b[0me\u001b[0m\u001b[1;33m:\u001b[0m\u001b[1;33m\u001b[0m\u001b[0m\n\u001b[0;32m    121\u001b[0m             \u001b[1;32mif\u001b[0m \u001b[0mwrap_exception\u001b[0m\u001b[1;33m:\u001b[0m\u001b[1;33m\u001b[0m\u001b[0m\n",
      "\u001b[1;32mC:\\ProgramData\\Anaconda3\\lib\\multiprocessing\\pool.py\u001b[0m in \u001b[0;36mmapstar\u001b[1;34m(args)\u001b[0m\n\u001b[0;32m     42\u001b[0m \u001b[1;33m\u001b[0m\u001b[0m\n\u001b[0;32m     43\u001b[0m \u001b[1;32mdef\u001b[0m \u001b[0mmapstar\u001b[0m\u001b[1;33m(\u001b[0m\u001b[0margs\u001b[0m\u001b[1;33m)\u001b[0m\u001b[1;33m:\u001b[0m\u001b[1;33m\u001b[0m\u001b[0m\n\u001b[1;32m---> 44\u001b[1;33m     \u001b[1;32mreturn\u001b[0m \u001b[0mlist\u001b[0m\u001b[1;33m(\u001b[0m\u001b[0mmap\u001b[0m\u001b[1;33m(\u001b[0m\u001b[1;33m*\u001b[0m\u001b[0margs\u001b[0m\u001b[1;33m)\u001b[0m\u001b[1;33m)\u001b[0m\u001b[1;33m\u001b[0m\u001b[0m\n\u001b[0m\u001b[0;32m     45\u001b[0m \u001b[1;33m\u001b[0m\u001b[0m\n\u001b[0;32m     46\u001b[0m \u001b[1;32mdef\u001b[0m \u001b[0mstarmapstar\u001b[0m\u001b[1;33m(\u001b[0m\u001b[0margs\u001b[0m\u001b[1;33m)\u001b[0m\u001b[1;33m:\u001b[0m\u001b[1;33m\u001b[0m\u001b[0m\n",
      "\u001b[1;32m<ipython-input-8-ab15be0c78c6>\u001b[0m in \u001b[0;36mgethouseInfo\u001b[1;34m(houseUrl)\u001b[0m\n\u001b[0;32m     67\u001b[0m                                     \u001b[0mpropertyRights\u001b[0m\u001b[1;33m=\u001b[0m\u001b[0mpropertyRights\u001b[0m\u001b[1;33m,\u001b[0m\u001b[1;33m\u001b[0m\u001b[0m\n\u001b[0;32m     68\u001b[0m                                     \u001b[0mhouseType\u001b[0m\u001b[1;33m=\u001b[0m\u001b[0mhouseType\u001b[0m\u001b[1;33m,\u001b[0m\u001b[1;33m\u001b[0m\u001b[0m\n\u001b[1;32m---> 69\u001b[1;33m                                     \u001b[0mhouseUrl\u001b[0m \u001b[1;33m=\u001b[0m \u001b[1;33m[\u001b[0m\u001b[0mhouseUrl\u001b[0m\u001b[1;33m]\u001b[0m\u001b[1;33m\u001b[0m\u001b[0m\n\u001b[0m\u001b[0;32m     70\u001b[0m                                  ))\n\u001b[0;32m     71\u001b[0m    \u001b[1;31m# 写入csv\u001b[0m\u001b[1;33m\u001b[0m\u001b[1;33m\u001b[0m\u001b[0m\n",
      "\u001b[1;32mC:\\ProgramData\\Anaconda3\\lib\\site-packages\\pandas\\core\\frame.py\u001b[0m in \u001b[0;36m__init__\u001b[1;34m(self, data, index, columns, dtype, copy)\u001b[0m\n\u001b[0;32m    273\u001b[0m                                  dtype=dtype, copy=copy)\n\u001b[0;32m    274\u001b[0m         \u001b[1;32melif\u001b[0m \u001b[0misinstance\u001b[0m\u001b[1;33m(\u001b[0m\u001b[0mdata\u001b[0m\u001b[1;33m,\u001b[0m \u001b[0mdict\u001b[0m\u001b[1;33m)\u001b[0m\u001b[1;33m:\u001b[0m\u001b[1;33m\u001b[0m\u001b[0m\n\u001b[1;32m--> 275\u001b[1;33m             \u001b[0mmgr\u001b[0m \u001b[1;33m=\u001b[0m \u001b[0mself\u001b[0m\u001b[1;33m.\u001b[0m\u001b[0m_init_dict\u001b[0m\u001b[1;33m(\u001b[0m\u001b[0mdata\u001b[0m\u001b[1;33m,\u001b[0m \u001b[0mindex\u001b[0m\u001b[1;33m,\u001b[0m \u001b[0mcolumns\u001b[0m\u001b[1;33m,\u001b[0m \u001b[0mdtype\u001b[0m\u001b[1;33m=\u001b[0m\u001b[0mdtype\u001b[0m\u001b[1;33m)\u001b[0m\u001b[1;33m\u001b[0m\u001b[0m\n\u001b[0m\u001b[0;32m    276\u001b[0m         \u001b[1;32melif\u001b[0m \u001b[0misinstance\u001b[0m\u001b[1;33m(\u001b[0m\u001b[0mdata\u001b[0m\u001b[1;33m,\u001b[0m \u001b[0mma\u001b[0m\u001b[1;33m.\u001b[0m\u001b[0mMaskedArray\u001b[0m\u001b[1;33m)\u001b[0m\u001b[1;33m:\u001b[0m\u001b[1;33m\u001b[0m\u001b[0m\n\u001b[0;32m    277\u001b[0m             \u001b[1;32mimport\u001b[0m \u001b[0mnumpy\u001b[0m\u001b[1;33m.\u001b[0m\u001b[0mma\u001b[0m\u001b[1;33m.\u001b[0m\u001b[0mmrecords\u001b[0m \u001b[1;32mas\u001b[0m \u001b[0mmrecords\u001b[0m\u001b[1;33m\u001b[0m\u001b[0m\n",
      "\u001b[1;32mC:\\ProgramData\\Anaconda3\\lib\\site-packages\\pandas\\core\\frame.py\u001b[0m in \u001b[0;36m_init_dict\u001b[1;34m(self, data, index, columns, dtype)\u001b[0m\n\u001b[0;32m    409\u001b[0m             \u001b[0marrays\u001b[0m \u001b[1;33m=\u001b[0m \u001b[1;33m[\u001b[0m\u001b[0mdata\u001b[0m\u001b[1;33m[\u001b[0m\u001b[0mk\u001b[0m\u001b[1;33m]\u001b[0m \u001b[1;32mfor\u001b[0m \u001b[0mk\u001b[0m \u001b[1;32min\u001b[0m \u001b[0mkeys\u001b[0m\u001b[1;33m]\u001b[0m\u001b[1;33m\u001b[0m\u001b[0m\n\u001b[0;32m    410\u001b[0m \u001b[1;33m\u001b[0m\u001b[0m\n\u001b[1;32m--> 411\u001b[1;33m         \u001b[1;32mreturn\u001b[0m \u001b[0m_arrays_to_mgr\u001b[0m\u001b[1;33m(\u001b[0m\u001b[0marrays\u001b[0m\u001b[1;33m,\u001b[0m \u001b[0mdata_names\u001b[0m\u001b[1;33m,\u001b[0m \u001b[0mindex\u001b[0m\u001b[1;33m,\u001b[0m \u001b[0mcolumns\u001b[0m\u001b[1;33m,\u001b[0m \u001b[0mdtype\u001b[0m\u001b[1;33m=\u001b[0m\u001b[0mdtype\u001b[0m\u001b[1;33m)\u001b[0m\u001b[1;33m\u001b[0m\u001b[0m\n\u001b[0m\u001b[0;32m    412\u001b[0m \u001b[1;33m\u001b[0m\u001b[0m\n\u001b[0;32m    413\u001b[0m     \u001b[1;32mdef\u001b[0m \u001b[0m_init_ndarray\u001b[0m\u001b[1;33m(\u001b[0m\u001b[0mself\u001b[0m\u001b[1;33m,\u001b[0m \u001b[0mvalues\u001b[0m\u001b[1;33m,\u001b[0m \u001b[0mindex\u001b[0m\u001b[1;33m,\u001b[0m \u001b[0mcolumns\u001b[0m\u001b[1;33m,\u001b[0m \u001b[0mdtype\u001b[0m\u001b[1;33m=\u001b[0m\u001b[1;32mNone\u001b[0m\u001b[1;33m,\u001b[0m \u001b[0mcopy\u001b[0m\u001b[1;33m=\u001b[0m\u001b[1;32mFalse\u001b[0m\u001b[1;33m)\u001b[0m\u001b[1;33m:\u001b[0m\u001b[1;33m\u001b[0m\u001b[0m\n",
      "\u001b[1;32mC:\\ProgramData\\Anaconda3\\lib\\site-packages\\pandas\\core\\frame.py\u001b[0m in \u001b[0;36m_arrays_to_mgr\u001b[1;34m(arrays, arr_names, index, columns, dtype)\u001b[0m\n\u001b[0;32m   5494\u001b[0m     \u001b[1;31m# figure out the index, if necessary\u001b[0m\u001b[1;33m\u001b[0m\u001b[1;33m\u001b[0m\u001b[0m\n\u001b[0;32m   5495\u001b[0m     \u001b[1;32mif\u001b[0m \u001b[0mindex\u001b[0m \u001b[1;32mis\u001b[0m \u001b[1;32mNone\u001b[0m\u001b[1;33m:\u001b[0m\u001b[1;33m\u001b[0m\u001b[0m\n\u001b[1;32m-> 5496\u001b[1;33m         \u001b[0mindex\u001b[0m \u001b[1;33m=\u001b[0m \u001b[0mextract_index\u001b[0m\u001b[1;33m(\u001b[0m\u001b[0marrays\u001b[0m\u001b[1;33m)\u001b[0m\u001b[1;33m\u001b[0m\u001b[0m\n\u001b[0m\u001b[0;32m   5497\u001b[0m     \u001b[1;32melse\u001b[0m\u001b[1;33m:\u001b[0m\u001b[1;33m\u001b[0m\u001b[0m\n\u001b[0;32m   5498\u001b[0m         \u001b[0mindex\u001b[0m \u001b[1;33m=\u001b[0m \u001b[0m_ensure_index\u001b[0m\u001b[1;33m(\u001b[0m\u001b[0mindex\u001b[0m\u001b[1;33m)\u001b[0m\u001b[1;33m\u001b[0m\u001b[0m\n",
      "\u001b[1;32mC:\\ProgramData\\Anaconda3\\lib\\site-packages\\pandas\\core\\frame.py\u001b[0m in \u001b[0;36mextract_index\u001b[1;34m(data)\u001b[0m\n\u001b[0;32m   5542\u001b[0m             \u001b[0mlengths\u001b[0m \u001b[1;33m=\u001b[0m \u001b[0mlist\u001b[0m\u001b[1;33m(\u001b[0m\u001b[0mset\u001b[0m\u001b[1;33m(\u001b[0m\u001b[0mraw_lengths\u001b[0m\u001b[1;33m)\u001b[0m\u001b[1;33m)\u001b[0m\u001b[1;33m\u001b[0m\u001b[0m\n\u001b[0;32m   5543\u001b[0m             \u001b[1;32mif\u001b[0m \u001b[0mlen\u001b[0m\u001b[1;33m(\u001b[0m\u001b[0mlengths\u001b[0m\u001b[1;33m)\u001b[0m \u001b[1;33m>\u001b[0m \u001b[1;36m1\u001b[0m\u001b[1;33m:\u001b[0m\u001b[1;33m\u001b[0m\u001b[0m\n\u001b[1;32m-> 5544\u001b[1;33m                 \u001b[1;32mraise\u001b[0m \u001b[0mValueError\u001b[0m\u001b[1;33m(\u001b[0m\u001b[1;34m'arrays must all be same length'\u001b[0m\u001b[1;33m)\u001b[0m\u001b[1;33m\u001b[0m\u001b[0m\n\u001b[0m\u001b[0;32m   5545\u001b[0m \u001b[1;33m\u001b[0m\u001b[0m\n\u001b[0;32m   5546\u001b[0m             \u001b[1;32mif\u001b[0m \u001b[0mhave_dicts\u001b[0m\u001b[1;33m:\u001b[0m\u001b[1;33m\u001b[0m\u001b[0m\n",
      "\u001b[1;31mValueError\u001b[0m: arrays must all be same length"
     ]
    }
   ],
   "source": [
    "gethouseInfo_perblock('https://bj.lianjia.com/ershoufang/wangjing/ng1nb1')"
   ]
  },
  {
   "cell_type": "code",
   "execution_count": null,
   "metadata": {
    "collapsed": true
   },
   "outputs": [],
   "source": []
  }
 ],
 "metadata": {
  "kernelspec": {
   "display_name": "Python 3",
   "language": "python",
   "name": "python3"
  },
  "language_info": {
   "codemirror_mode": {
    "name": "ipython",
    "version": 3
   },
   "file_extension": ".py",
   "mimetype": "text/x-python",
   "name": "python",
   "nbconvert_exporter": "python",
   "pygments_lexer": "ipython3",
   "version": "3.6.4"
  },
  "toc": {
   "nav_menu": {},
   "number_sections": true,
   "sideBar": true,
   "skip_h1_title": false,
   "toc_cell": false,
   "toc_position": {},
   "toc_section_display": "block",
   "toc_window_display": false
  },
  "varInspector": {
   "cols": {
    "lenName": 16,
    "lenType": 16,
    "lenVar": 40
   },
   "kernels_config": {
    "python": {
     "delete_cmd_postfix": "",
     "delete_cmd_prefix": "del ",
     "library": "var_list.py",
     "varRefreshCmd": "print(var_dic_list())"
    },
    "r": {
     "delete_cmd_postfix": ") ",
     "delete_cmd_prefix": "rm(",
     "library": "var_list.r",
     "varRefreshCmd": "cat(var_dic_list()) "
    }
   },
   "position": {
    "height": "460px",
    "left": "1550px",
    "right": "20px",
    "top": "120px",
    "width": "322px"
   },
   "types_to_exclude": [
    "module",
    "function",
    "builtin_function_or_method",
    "instance",
    "_Feature"
   ],
   "window_display": true
  }
 },
 "nbformat": 4,
 "nbformat_minor": 2
}
